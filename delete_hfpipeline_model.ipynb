{
 "cells": [
  {
   "cell_type": "code",
   "execution_count": 2,
   "metadata": {},
   "outputs": [],
   "source": [
    "import os\n",
    "import shutil\n",
    "from transformers import TRANSFORMERS_CACHE"
   ]
  },
  {
   "cell_type": "code",
   "execution_count": 3,
   "metadata": {},
   "outputs": [
    {
     "name": "stdout",
     "output_type": "stream",
     "text": [
      "Available models:\n",
      "- models--Salesforce--blip-image-captioning-base\n",
      "- models--unsloth--mistral-7b-bnb-4bit\n",
      "- models--EleutherAI--gpt-neox-20b\n",
      "- models--google--flan-t5-large\n",
      "- datasets--VirtualMachine01--TrialDataset\n",
      "- models--microsoft--git-large-coco\n",
      "- models--EleutherAI--gpt-j-6B\n",
      "- models--jondurbin--airoboros-gpt-3.5-turbo-100k-7b\n",
      "- .locks\n",
      "- models--google-bert--bert-base-uncased\n",
      "- models--gpt2\n",
      "- models--Salesforce--blip2-opt-2.7b\n",
      "- models--VirtualMachine01--caption-model\n",
      "- models--distilgpt2\n",
      "- models--EleutherAI--gpt-neo-1.3B\n",
      "- models--DisgustingOzil--Academic-MCQ-Generator\n",
      "- models--microsoft--git-base-coco\n",
      "- models--Salesforce--blip-image-captioning-large\n",
      "- models--microsoft--Phi-3-mini-4k-instruct\n",
      "- models--bert-base-uncased\n",
      "- models--mistralai--Mistral-7B-v0.1\n",
      "- models--google--flan-ul2\n",
      "- models--nlpconnect--vit-gpt2-image-captioning\n",
      "- models--google--flan-t5-small\n",
      "- models--dbmdz--bert-large-cased-finetuned-conll03-english\n",
      "- models--Salesforce--blip2-flan-t5-xl\n",
      "- models--t5-small\n",
      "- models--microsoft--git-large\n",
      "- models--noamrot--FuseCap\n",
      "- models--microsoft--git-base\n",
      "- models--distilbert-base-uncased\n"
     ]
    }
   ],
   "source": [
    "def list_models():\n",
    "    \"\"\"List all models in the cache directory.\"\"\"\n",
    "    print(\"Available models:\")\n",
    "    for dir in os.listdir(TRANSFORMERS_CACHE):\n",
    "        if os.path.isdir(os.path.join(TRANSFORMERS_CACHE, dir)):\n",
    "            print(f\"- {dir}\")\n",
    "\n",
    "def delete_model(model_name):\n",
    "    \"\"\"Delete a specific model from the cache.\"\"\"\n",
    "    model_path = os.path.join(TRANSFORMERS_CACHE, model_name)\n",
    "    if os.path.exists(model_path):\n",
    "        shutil.rmtree(model_path)\n",
    "        print(f\"Deleted model: {model_name}\")\n",
    "    else:\n",
    "        print(f\"Model not found: {model_name}\")\n",
    "\n",
    "# List available models\n",
    "list_models()"
   ]
  },
  {
   "cell_type": "code",
   "execution_count": null,
   "metadata": {},
   "outputs": [],
   "source": [
    "# Ask user which models to delete\n",
    "models_to_delete = input(\"Enter the names of the models you want to delete (separated by commas): \").split(',')\n",
    "\n",
    "# Confirm deletion\n",
    "confirm = input(f\"Are you sure you want to delete these models: {', '.join(models_to_delete)}? (yes/no): \")\n",
    "\n",
    "if confirm.lower() == 'yes':\n",
    "    for model in models_to_delete:\n",
    "        delete_model(model.strip())\n",
    "    print(\"Deletion complete.\")\n",
    "else:\n",
    "    print(\"Deletion cancelled.\")\n",
    "\n",
    "# List remaining models\n",
    "print(\"\\nRemaining models:\")\n",
    "list_models()"
   ]
  },
  {
   "cell_type": "code",
   "execution_count": 4,
   "metadata": {},
   "outputs": [
    {
     "name": "stdout",
     "output_type": "stream",
     "text": [
      "Cache Directory: /home/user/.cache/huggingface/hub\n"
     ]
    }
   ],
   "source": [
    "# Print the cache directory\n",
    "print(\"Cache Directory:\", TRANSFORMERS_CACHE)\n",
    "# du -sh ~/.cache/huggingface/hub #write below path to check the size of that folder"
   ]
  },
  {
   "cell_type": "code",
   "execution_count": null,
   "metadata": {},
   "outputs": [],
   "source": []
  }
 ],
 "metadata": {
  "kernelspec": {
   "display_name": "newVenv",
   "language": "python",
   "name": "python3"
  },
  "language_info": {
   "codemirror_mode": {
    "name": "ipython",
    "version": 3
   },
   "file_extension": ".py",
   "mimetype": "text/x-python",
   "name": "python",
   "nbconvert_exporter": "python",
   "pygments_lexer": "ipython3",
   "version": "3.12.4"
  }
 },
 "nbformat": 4,
 "nbformat_minor": 2
}
