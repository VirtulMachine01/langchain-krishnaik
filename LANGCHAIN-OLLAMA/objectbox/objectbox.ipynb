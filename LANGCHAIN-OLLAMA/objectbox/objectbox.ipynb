{
 "cells": [
  {
   "cell_type": "code",
   "execution_count": 1,
   "metadata": {},
   "outputs": [],
   "source": [
    "# NO internet , no clud and can be used in mobile, iot application and faster than other (suppports android, mac, linux, windows, raspbian, embedded systems)"
   ]
  },
  {
   "cell_type": "code",
   "execution_count": 1,
   "metadata": {},
   "outputs": [],
   "source": [
    "from langchain_community.embeddings import HuggingFaceBgeEmbeddings\n",
    "from langchain_community.document_loaders import PyPDFDirectoryLoader\n",
    "from langchain_text_splitters import RecursiveCharacterTextSplitter\n",
    "from langchain_objectbox.vectorstores import ObjectBox"
   ]
  },
  {
   "cell_type": "code",
   "execution_count": 2,
   "metadata": {},
   "outputs": [
    {
     "name": "stderr",
     "output_type": "stream",
     "text": [
      "/home/user/Meet_Patel/new1/newVenv/lib/python3.12/site-packages/sentence_transformers/cross_encoder/CrossEncoder.py:11: TqdmExperimentalWarning: Using `tqdm.autonotebook.tqdm` in notebook mode. Use `tqdm.tqdm` instead to force console mode (e.g. in jupyter console)\n",
      "  from tqdm.autonotebook import tqdm, trange\n",
      "/home/user/Meet_Patel/new1/newVenv/lib/python3.12/site-packages/transformers/tokenization_utils_base.py:1601: FutureWarning: `clean_up_tokenization_spaces` was not set. It will be set to `True` by default. This behavior will be depracted in transformers v4.45, and will be then set to `False` by default. For more details check this issue: https://github.com/huggingface/transformers/issues/31884\n",
      "  warnings.warn(\n"
     ]
    }
   ],
   "source": [
    "embeddings = HuggingFaceBgeEmbeddings(\n",
    "    model_name=\"sentence-transformers/all-MiniLM-l6-v2\",\n",
    "    model_kwargs={'device':'cpu'},\n",
    "    encode_kwargs={'normalize_embeddings':True}\n",
    "    )"
   ]
  },
  {
   "cell_type": "code",
   "execution_count": 3,
   "metadata": {},
   "outputs": [
    {
     "data": {
      "text/plain": [
       "HuggingFaceBgeEmbeddings(client=SentenceTransformer(\n",
       "  (0): Transformer({'max_seq_length': 256, 'do_lower_case': False}) with Transformer model: BertModel \n",
       "  (1): Pooling({'word_embedding_dimension': 384, 'pooling_mode_cls_token': False, 'pooling_mode_mean_tokens': True, 'pooling_mode_max_tokens': False, 'pooling_mode_mean_sqrt_len_tokens': False, 'pooling_mode_weightedmean_tokens': False, 'pooling_mode_lasttoken': False, 'include_prompt': True})\n",
       "  (2): Normalize()\n",
       "), model_name='sentence-transformers/all-MiniLM-l6-v2', cache_folder=None, model_kwargs={'device': 'cpu'}, encode_kwargs={'normalize_embeddings': True}, query_instruction='Represent this question for searching relevant passages: ', embed_instruction='', show_progress=False)"
      ]
     },
     "execution_count": 3,
     "metadata": {},
     "output_type": "execute_result"
    }
   ],
   "source": [
    "embeddings"
   ]
  },
  {
   "cell_type": "code",
   "execution_count": 4,
   "metadata": {},
   "outputs": [],
   "source": [
    "loader = PyPDFDirectoryLoader(\"./us_census\")\n",
    "documents = loader.load()"
   ]
  },
  {
   "cell_type": "code",
   "execution_count": 5,
   "metadata": {},
   "outputs": [
    {
     "data": {
      "text/plain": [
       "63"
      ]
     },
     "execution_count": 5,
     "metadata": {},
     "output_type": "execute_result"
    }
   ],
   "source": [
    "len(documents)"
   ]
  },
  {
   "cell_type": "code",
   "execution_count": 6,
   "metadata": {},
   "outputs": [],
   "source": [
    "\n",
    "text_splitter = RecursiveCharacterTextSplitter(chunk_size = 1000, chunk_overlap=200)\n",
    "final_documents = text_splitter.split_documents(documents)"
   ]
  },
  {
   "cell_type": "code",
   "execution_count": 7,
   "metadata": {},
   "outputs": [
    {
     "data": {
      "text/plain": [
       "316"
      ]
     },
     "execution_count": 7,
     "metadata": {},
     "output_type": "execute_result"
    }
   ],
   "source": [
    "len(final_documents)"
   ]
  },
  {
   "cell_type": "code",
   "execution_count": 8,
   "metadata": {},
   "outputs": [],
   "source": [
    "\n",
    "vectorstore = ObjectBox.from_documents(final_documents, embeddings, embedding_dimensions = 384)"
   ]
  },
  {
   "cell_type": "code",
   "execution_count": 9,
   "metadata": {},
   "outputs": [
    {
     "name": "stdout",
     "output_type": "stream",
     "text": [
      "<langchain_objectbox.vectorstores.ObjectBox object at 0x7f3750234aa0>\n"
     ]
    }
   ],
   "source": [
    "print(vectorstore)"
   ]
  },
  {
   "cell_type": "code",
   "execution_count": 11,
   "metadata": {},
   "outputs": [
    {
     "data": {
      "text/plain": [
       "[Document(metadata={'page': 8, 'source': 'us_census/acsbr-016.pdf'}, page_content='^ Indicates a significant increase. Statistically different from 2021 estimate at the 90 percent confidence level.\\n1 Poverty status is determined for individuals in housing units and noninstitutional group quarters. The poverty universe excludes children under the age of 15 who \\nare not related to the householder, people living in institutional group quarters (e.g., nursing homes or correctional facilities), and people living in college dormitories \\nor military barracks. People and families are classified as being in poverty if their income is less than their poverty threshold. If their income is less than one-half of their \\npoverty threshold, they are below .50 of poverty; less than the threshold itself, they are in poverty (below 100 percent of poverty); less than 1.25 times the threshold, \\nbelow 125 percent of poverty, and so on.'),\n",
       " Document(metadata={'page': 13, 'source': 'us_census/acsbr-016.pdf'}, page_content='Z Represents or rounds to zero.\\n1 Poverty status is determined for individuals in housing units and noninstitutional group quarters. The poverty universe excludes children under the age of 15 who \\nare not related to the householder, people living in institutional group quarters (e.g., nursing homes or correctional facilities), and people living in college dormitories \\nor military barracks. People and families are classified as being in poverty if their income is less than their poverty threshold. If their income is less than one-half of their \\npoverty threshold, they are below .50 of poverty; less than the threshold itself, they are in poverty (below 100 percent of poverty); less than 1.25 times the threshold, \\nbelow 125 percent of poverty, and so on.\\n2 Data are based on a sample and are subject to sampling variability. A margin of error is a measure of an estimate’s variability. The larger the margin of error in'),\n",
       " Document(metadata={'page': 5, 'source': 'us_census/acsbr-016.pdf'}, page_content='significant change from 2021. \\nOverall, 10 states and the District \\nof Columbia had a decrease in the proportion of people with an income-to-poverty ratio below 50 percent since 2021. Four states had an increase in the state’s popula-\\ntion living with incomes below \\none-half of their poverty threshold compared to 2021.HOW POVERTY IS MEASURED\\nPoverty status is determined by comparing annual income to a set of dollar values (called poverty thresholds) that vary by family size, number of children, and the age of the householder. If a family’s before-tax money income is less than the dollar value of their threshold, then that family and every individual in it are considered \\nto be in poverty. For people not living in families, poverty status \\nis determined by comparing individuals’ income to their poverty threshold.\\nThe poverty thresholds are updated annually to account for changes')]"
      ]
     },
     "execution_count": 11,
     "metadata": {},
     "output_type": "execute_result"
    }
   ],
   "source": [
    "vectorstore.similarity_search(\"HOW POVERTY IS MEASURED\", k=3)"
   ]
  },
  {
   "cell_type": "code",
   "execution_count": 14,
   "metadata": {},
   "outputs": [
    {
     "name": "stdout",
     "output_type": "stream",
     "text": [
      "Simple search results: []\n"
     ]
    }
   ],
   "source": [
    "# Try a simple search query\n",
    "simple_search_results = vectorstore.similarity_search(\"poverty\", k=3)\n",
    "print(f\"Simple search results: {simple_search_results}\")"
   ]
  },
  {
   "cell_type": "code",
   "execution_count": 16,
   "metadata": {},
   "outputs": [
    {
     "name": "stdout",
     "output_type": "stream",
     "text": [
      "Sample text embedding: [[0.0023467442952096462, 0.0024022178258746862, 0.0018347915029153228, -0.015499286353588104, 0.0745987668633461, 0.05991535633802414, 0.031967636197805405, 0.02674684301018715, 0.025996088981628418, -0.029618265107274055, 0.007611970882862806, 0.005586665123701096, 0.03267190232872963, 0.02534686028957367, 0.01354271825402975, 0.05786987766623497, 0.11785060912370682, 0.06706958264112473, -0.006919119041413069, -0.0449889712035656, -0.005511866882443428, 0.028348296880722046, 0.09903524816036224, -0.05597890168428421, 0.036785125732421875, -0.0025770962238311768, 0.0076683261431753635, 0.07714799791574478, 0.09565530717372894, -0.008267641998827457, 0.05242351070046425, -0.02453666366636753, 0.06390953063964844, 0.017263680696487427, 0.07019221037626266, 0.056861329823732376, -0.04509204998612404, 0.04266784340143204, -0.028656288981437683, 0.07859861850738525, 0.030198629945516586, -0.0037333848886191845, -0.009890168905258179, 0.06541897356510162, 0.09823176264762878, -0.07660577446222305, -0.053108129650354385, -0.00032733712578192353, 0.004135377239435911, 0.08490601927042007, -0.06295771151781082, -0.03205731511116028, -0.07048007100820541, -0.03503188118338585, -0.023271236568689346, -0.04067361727356911, 0.014275571331381798, -0.08094210922718048, 0.00988005381077528, -0.03625750169157982, 0.03777484595775604, -0.04645943641662598, 0.05375101417303085, 0.01321463007479906, 0.014013881795108318, -0.02744453400373459, -0.01988975889980793, 0.14284852147102356, -0.02479252591729164, -0.0031815180554986, -0.07249177992343903, 0.015580311417579651, -0.054765358567237854, 0.06781929731369019, -0.08613688498735428, 0.010557991452515125, -0.06400812417268753, -0.14091740548610687, 0.06270240247249603, -0.08313197642564774, 0.014664718881249428, -0.024268655106425285, 0.05238176882266998, 0.04595204442739487, 0.007006418891251087, 0.02082107588648796, 0.07790444046258926, 0.017734026536345482, -0.051222484558820724, -0.010609837248921394, 0.004131883382797241, -0.024653729051351547, 0.028153009712696075, 0.006652116775512695, -0.05939400568604469, 0.0205987598747015, -0.02784455381333828, -0.0443434864282608, 0.02908664010465145, 0.082791768014431, 0.009952862747013569, 0.006676944438368082, 0.08280909061431885, 0.00026352424174547195, -0.09499925374984741, -0.11395144462585449, 0.031069444492459297, -0.020330922678112984, -0.012233976274728775, -0.045790091156959534, -0.0009610598790459335, -0.03385527431964874, -0.08720000088214874, -0.005193992983549833, 0.046421974897384644, -0.11641791462898254, 0.0604410246014595, -0.08609005063772202, 0.003118179040029645, -0.005932041443884373, -0.06226559728384018, 0.04558321088552475, -0.07169955968856812, -0.004256024956703186, -0.013330898247659206, -0.016018839552998543, 0.06681099534034729, -1.1184589975784055e-33, 0.00983539130538702, 0.005065888166427612, 0.015024387277662754, 0.11023613065481186, 0.04088576138019562, -0.0140668461099267, -0.05583652853965759, 0.03227713704109192, -0.08803288638591766, 0.0018243239028379321, -0.003967098891735077, -0.04899503290653229, 0.031091254204511642, 0.08405763655900955, -0.037165768444538116, -0.03231606259942055, -0.062074366956949234, -0.009519333019852638, 0.026029182597994804, 0.002494911663234234, -0.07296965271234512, 0.04159795865416527, 0.013987361453473568, -0.03410034254193306, -0.06900563091039658, 0.002412505680695176, 0.029362084344029427, -0.0808679461479187, -0.0358390212059021, -0.019548676908016205, -0.05251966044306755, -0.05844627320766449, 0.05729203298687935, -0.026034941896796227, 0.028065819293260574, 0.0040393248200416565, 0.03618082404136658, 0.006593781057745218, -0.025183681398630142, -0.003339127404615283, 0.023477891460061073, -0.024944301694631577, 0.12465488910675049, -0.054994646459817886, -0.02125789038836956, 0.01611161418259144, 0.0064233047887682915, -0.017381934449076653, 0.00408670911565423, -0.03272068500518799, 0.00016313798550982028, 0.034622859209775925, -0.01084644254297018, -0.03937489911913872, 0.0950971394777298, -0.010840236209332943, -0.02824929915368557, 0.024813024327158928, 0.05619287118315697, 0.018900005146861076, -0.05369341000914574, -0.007917746901512146, 0.047782160341739655, 0.013873208314180374, 0.043038349598646164, 0.0036179691087454557, -0.0395822748541832, -0.11199293285608292, 0.052731793373823166, 0.026696741580963135, -0.02398957498371601, 0.019986592233181, -0.0963650643825531, -0.03778323903679848, -0.10618624091148376, 0.013502645306289196, -0.05114598572254181, -0.007936224341392517, -0.010565911419689655, 0.04944734275341034, -0.03582138568162918, -0.14982670545578003, 0.01426958478987217, -0.06912100315093994, -0.03778957948088646, -0.0690801665186882, 0.045040909200906754, -0.16661520302295685, 0.07558383047580719, -0.010094520635902882, -0.05888384208083153, 0.011346383951604366, -0.08356719464063644, -0.046789322048425674, 0.10207386314868927, -4.477930935087307e-35, 0.022951534017920494, 0.020260512828826904, -0.00903240405023098, 0.05691482126712799, 0.05619385093450546, 0.08466688543558121, 0.021088527515530586, 0.04112449660897255, -0.0013380809687078, 0.014905407093465328, -0.05848681181669235, -0.02153007499873638, 0.07557293027639389, -0.07555781304836273, -0.013201222755014896, 0.021120479330420494, 0.009304437786340714, 0.019693521782755852, 0.005604768171906471, 0.026501374319195747, -0.07006501406431198, -0.005536889191716909, 0.015064345672726631, 0.025682736188173294, 0.12032294273376465, 0.10668788105249405, 0.03179369121789932, -0.0072885844856500626, -0.02347208559513092, -0.08552362024784088, -0.02631031535565853, -0.046208303421735764, 0.015383209101855755, 0.03263816237449646, -0.08251312375068665, -0.00478958897292614, 0.14035969972610474, 0.015192138031125069, -0.03282143548130989, -0.003671819344162941, 0.0815531462430954, 0.024473801255226135, -0.06799322366714478, -0.006062251515686512, -0.036050401628017426, 0.001941074850037694, -0.11499223113059998, -0.04630357399582863, 0.07765830308198929, 0.0019128917483612895, -0.06637845933437347, -0.009446807205677032, -0.05021979659795761, -0.009873924776911736, 0.009182768873870373, -0.08627402037382126, -0.036876529455184937, 0.0014450059970840812, 0.030863972380757332, 0.012491701170802116, -0.038453031331300735, -0.0038727440405637026, -0.0036434964276850224, -0.04790123924612999, 0.05916258692741394, -0.1267417073249817, -0.021264538168907166, 0.020990656688809395, -0.071568064391613, 0.010149160400032997, -0.001978509593755007, -0.023586148396134377, 0.004423585254698992, 0.008493066765367985, 0.02660624496638775, 0.009026216343045235, 0.042183198034763336, 0.0575295090675354, -0.03736924007534981, -0.07175248116254807, 0.1022086814045906, -0.009843647480010986, 0.010651196353137493, 0.06205514818429947, 0.07823336869478226, 0.06125899404287338, -0.0088017787784338, -0.00449708616361022, 0.001043187454342842, 0.0342901237308979, -0.01258048228919506, 0.045579977333545685, -0.010490276850759983, 0.12696567177772522, 0.06019768863916397, -1.6112753797870027e-08, -0.04311804845929146, -0.010154031217098236, 0.010123776271939278, -0.007860476151108742, -0.06331697851419449, -0.003461528569459915, 0.0013314828975126147, -0.09776458144187927, -0.03781941160559654, -0.05118304863572121, 0.07596810907125473, -0.07838495075702667, -0.03559510409832001, -0.03328213840723038, 0.004193886183202267, 0.04191642999649048, -0.025990387424826622, 0.007412024773657322, 0.037392254918813705, 0.03660324215888977, 0.012825067155063152, 0.11780892312526703, 0.0010388083755970001, -0.03477859124541283, -0.03399088233709335, 0.06015775352716446, -0.028305500745773315, -0.020566504448652267, 0.02627643756568432, -0.0509047769010067, 0.03157106786966324, 0.07060930132865906, 0.0023689635563641787, -0.0720478892326355, 0.01273517869412899, -0.017459029331803322, 0.023014714941382408, -0.07312864065170288, -0.010108106769621372, -0.03936411812901497, 0.0148912463337183, 0.03552653640508652, -0.039947837591171265, -0.08968215435743332, 0.11378105729818344, 0.023370753973722458, 0.021553408354520798, -0.05466235429048538, 0.020525483414530754, 0.0187117587774992, -0.013891046866774559, -0.07833830267190933, 0.006283008027821779, -0.007437387015670538, -0.00596114294603467, 0.03572029992938042, 0.03201434761285782, 0.08609257638454437, -0.03165783733129501, -0.002438533818349242, 0.01009778305888176, 0.08192339539527893, 0.02263122797012329, -0.04835086315870285]]\n"
     ]
    }
   ],
   "source": [
    "sample_text = \"Sample text for embedding\"\n",
    "sample_embedding = embeddings.embed_documents([sample_text])\n",
    "print(f\"Sample text embedding: {sample_embedding}\")"
   ]
  },
  {
   "cell_type": "code",
   "execution_count": 17,
   "metadata": {},
   "outputs": [
    {
     "ename": "AttributeError",
     "evalue": "'ObjectBox' object has no attribute 'count_vectors'",
     "output_type": "error",
     "traceback": [
      "\u001b[0;31m---------------------------------------------------------------------------\u001b[0m",
      "\u001b[0;31mAttributeError\u001b[0m                            Traceback (most recent call last)",
      "Cell \u001b[0;32mIn[17], line 2\u001b[0m\n\u001b[1;32m      1\u001b[0m \u001b[38;5;66;03m# Pseudo-code: Replace with actual method if available\u001b[39;00m\n\u001b[0;32m----> 2\u001b[0m num_vectors \u001b[38;5;241m=\u001b[39m \u001b[43mvectorstore\u001b[49m\u001b[38;5;241;43m.\u001b[39;49m\u001b[43mcount_vectors\u001b[49m()  \u001b[38;5;66;03m# Hypothetical method\u001b[39;00m\n\u001b[1;32m      3\u001b[0m \u001b[38;5;28mprint\u001b[39m(\u001b[38;5;124mf\u001b[39m\u001b[38;5;124m\"\u001b[39m\u001b[38;5;124mNumber of vectors in the store: \u001b[39m\u001b[38;5;132;01m{\u001b[39;00mnum_vectors\u001b[38;5;132;01m}\u001b[39;00m\u001b[38;5;124m\"\u001b[39m)\n",
      "\u001b[0;31mAttributeError\u001b[0m: 'ObjectBox' object has no attribute 'count_vectors'"
     ]
    }
   ],
   "source": [
    "# Pseudo-code: Replace with actual method if available\n",
    "num_vectors = vectorstore.count_vectors()  # Hypothetical method\n",
    "print(f\"Number of vectors in the store: {num_vectors}\")"
   ]
  },
  {
   "cell_type": "code",
   "execution_count": null,
   "metadata": {},
   "outputs": [],
   "source": []
  }
 ],
 "metadata": {
  "kernelspec": {
   "display_name": "newVenv",
   "language": "python",
   "name": "python3"
  },
  "language_info": {
   "codemirror_mode": {
    "name": "ipython",
    "version": 3
   },
   "file_extension": ".py",
   "mimetype": "text/x-python",
   "name": "python",
   "nbconvert_exporter": "python",
   "pygments_lexer": "ipython3",
   "version": "3.12.4"
  }
 },
 "nbformat": 4,
 "nbformat_minor": 2
}
