{
 "cells": [
  {
   "cell_type": "code",
   "execution_count": 1,
   "metadata": {},
   "outputs": [],
   "source": [
    "from langchain_community.document_loaders import PyPDFLoader, PyPDFDirectoryLoader\n",
    "from langchain_text_splitters import RecursiveCharacterTextSplitter\n",
    "from langchain_community.vectorstores import FAISS\n",
    "from langchain_community.embeddings import HuggingFaceBgeEmbeddings\n",
    "from langchain.prompts import PromptTemplate\n",
    "from langchain.chains import RetrievalQA"
   ]
  },
  {
   "cell_type": "code",
   "execution_count": 2,
   "metadata": {},
   "outputs": [
    {
     "data": {
      "text/plain": [
       "Document(metadata={'source': 'us_census/acsbr-016.pdf', 'page': 0}, page_content='Poverty in States and Metropolitan  \\nAreas: 2022\\nAmerican Community Survey Briefs\\nDecember 2023ACSBR-016By Craig Benson\\nINTRODUCTION\\nPlanners, policymakers, and community stakeholders \\nuse poverty estimates as key indicators to evaluate trends and current economic conditions within com-munities and to make comparisons across demo-graphic groups. Federal and state governments often \\nuse these estimates to allocate funds to local com-\\nmunities. Government agencies, researchers, and local organizations regularly use these estimates to identify the number of individuals and families eligible for vari-ous programs and to measure economic well-being.\\nThis brief uses the 2021 and 2022 American \\nCommunity Survey (ACS) 1-year estimates and the \\n2021 and 2022 Puerto Rico Community Surveys')"
      ]
     },
     "execution_count": 2,
     "metadata": {},
     "output_type": "execute_result"
    }
   ],
   "source": [
    "loader = PyPDFDirectoryLoader(\"./us_census\")\n",
    "documents=loader.load()\n",
    "text_splitter = RecursiveCharacterTextSplitter(chunk_size=1000, chunk_overlap=200)\n",
    "final_documents = text_splitter.split_documents(documents)\n",
    "final_documents[0]"
   ]
  },
  {
   "cell_type": "code",
   "execution_count": 3,
   "metadata": {},
   "outputs": [
    {
     "data": {
      "text/plain": [
       "316"
      ]
     },
     "execution_count": 3,
     "metadata": {},
     "output_type": "execute_result"
    }
   ],
   "source": [
    "len(final_documents)"
   ]
  },
  {
   "cell_type": "code",
   "execution_count": 7,
   "metadata": {},
   "outputs": [],
   "source": [
    "## Embedding using Huggingface\n",
    "huggingface_embeddings = HuggingFaceBgeEmbeddings(\n",
    "    model_name=\"BAAI/bge-small-en-v1.5\",  #sentence-transformers/all-MiniLM-l6-v2\n",
    "    model_kwargs={'device':'cpu'},\n",
    "    encode_kwargs={'normalize_embeddings':True}\n",
    "    )"
   ]
  },
  {
   "cell_type": "code",
   "execution_count": 8,
   "metadata": {},
   "outputs": [
    {
     "name": "stdout",
     "output_type": "stream",
     "text": [
      "[-1.00630485e-02 -3.98545228e-02 -2.14798469e-02  5.86761236e-02\n",
      "  8.02909210e-02  5.45422100e-02 -1.89205129e-02 -3.84313846e-03\n",
      " -5.06586283e-02 -9.22432356e-03  5.20436242e-02  2.59992722e-02\n",
      " -1.59694124e-02 -1.32009629e-02 -3.79713103e-02 -2.48674881e-02\n",
      " -4.57807034e-02  5.27276881e-02  2.56091040e-02  1.23642124e-02\n",
      "  5.47024012e-02 -9.55433398e-03 -7.26953149e-02 -1.91431139e-02\n",
      "  5.93196191e-02 -3.60356569e-02 -1.51837972e-04 -5.13967909e-02\n",
      " -4.05045077e-02 -1.59561858e-01  6.18918333e-03  2.72261701e-03\n",
      "  4.80102040e-02 -6.29635667e-03 -3.37925646e-03 -4.26316224e-02\n",
      "  3.80310751e-02  5.58205806e-02  8.53929203e-03  5.33878878e-02\n",
      " -4.03700920e-04 -2.85844561e-02 -1.75250061e-02 -3.33270766e-02\n",
      " -6.52636960e-02 -6.25039861e-02 -1.69884041e-02 -3.36702913e-03\n",
      " -5.80814518e-02 -1.87588278e-02  3.09326667e-02 -1.79333501e-02\n",
      "  1.11762872e-02  4.28264700e-02  4.17709276e-02  2.02438403e-02\n",
      "  9.16246418e-03 -3.49306874e-02 -2.00626347e-02  4.42196541e-02\n",
      "  3.16111892e-02  9.09481104e-03 -2.67247826e-01  4.63151671e-02\n",
      "  3.19891050e-02  9.42401681e-03  1.66227706e-02 -2.71087606e-02\n",
      " -3.63865793e-02 -4.81889099e-02  5.23809530e-03 -1.47414068e-02\n",
      "  1.43899107e-02  7.97560066e-02  1.50766354e-02 -3.73384170e-02\n",
      "  3.52885462e-02  2.54596071e-03 -2.19097082e-02  2.70608952e-03\n",
      "  2.58722305e-02  4.77114692e-02  1.06454007e-02 -1.58604048e-02\n",
      " -6.43942645e-03 -3.39420028e-02  2.13870741e-02  1.23199616e-02\n",
      "  6.48126751e-02 -3.37076895e-02 -1.74965039e-02 -4.90860753e-02\n",
      "  3.62624079e-02  1.14423048e-03 -1.27171222e-02  3.88981728e-03\n",
      "  4.30217348e-02 -5.57228923e-03 -6.59407228e-02  4.23406720e-01\n",
      "  1.72970276e-02 -1.24600027e-02  3.91804390e-02 -1.51927816e-02\n",
      " -9.42246243e-03 -4.20137960e-03 -2.17769556e-02 -8.18582177e-02\n",
      "  2.73602158e-02  4.25311811e-02 -2.03627087e-02 -3.46244778e-03\n",
      " -3.11768912e-02  2.92782523e-02  3.19557004e-02 -4.34459746e-02\n",
      "  8.89860559e-03  5.28545082e-02  9.23150480e-02 -2.16162689e-02\n",
      " -1.33102639e-02 -1.48076490e-02 -1.24318143e-02 -3.50315832e-02\n",
      "  5.31695448e-02  2.07379777e-02 -1.19185392e-02  7.17210621e-02\n",
      " -2.57769506e-03  3.05687580e-02  2.01313086e-02 -1.69354100e-02\n",
      " -1.06968626e-01 -7.25109968e-03 -1.54300351e-02 -6.45249733e-04\n",
      "  3.82186696e-02  3.58711705e-02  3.24262418e-02  2.56100502e-02\n",
      "  5.33036813e-02  3.49728316e-02  2.37788241e-02 -9.60435644e-02\n",
      " -1.25077562e-02  1.39166713e-01 -2.38336846e-02  1.76366661e-02\n",
      " -3.31843243e-04 -5.34385368e-02  1.28329284e-02  5.65364808e-02\n",
      " -4.42630313e-02  1.72915459e-02 -3.63607286e-03  6.66050846e-03\n",
      " -1.11832591e-02 -3.88145708e-02 -4.92328731e-03  2.00649984e-02\n",
      "  2.73066722e-02 -5.35459369e-02 -4.74822819e-02  4.27258350e-02\n",
      "  4.24336717e-02 -3.56703438e-02 -3.27643529e-02  4.57984544e-02\n",
      "  1.65242217e-02 -1.80754308e-02  5.50455563e-02  6.82055857e-03\n",
      "  2.75579672e-02 -3.26974690e-02  7.95519799e-02 -5.70439734e-03\n",
      "  1.74412839e-04  3.80691909e-03 -6.26285970e-02 -2.70998981e-02\n",
      "  1.61034026e-04 -5.20491565e-04 -3.56900841e-02 -6.51210640e-03\n",
      " -3.51097025e-02  2.15290226e-02 -4.01071794e-02 -4.75414135e-02\n",
      " -4.37362166e-03 -3.76820005e-02 -2.15446297e-02 -3.56966294e-02\n",
      " -3.47036272e-02  5.15836738e-02  1.31347515e-02  2.50347778e-02\n",
      "  5.02921455e-03 -3.50710265e-02  4.45849746e-02 -1.70017872e-02\n",
      " -1.41868321e-02 -2.79174391e-02  1.31043326e-03 -1.65593047e-02\n",
      "  2.17183046e-02 -8.36344250e-03  1.77875459e-02 -4.52985093e-02\n",
      "  6.81727529e-02 -2.07133312e-02 -1.30536202e-02  1.51122762e-02\n",
      "  6.55917302e-02 -1.31709892e-02 -4.10170965e-02  4.46104892e-02\n",
      "  4.47387546e-02 -8.15696362e-03 -1.25759505e-02  3.28765586e-02\n",
      " -1.32365455e-03  5.68179972e-03  1.80775579e-02 -3.05181891e-01\n",
      " -3.20215635e-02  2.75090162e-04  2.55006030e-02  3.80171649e-03\n",
      " -5.53855300e-03  9.14201955e-04  1.36023080e-02 -5.21923564e-02\n",
      "  8.57173055e-02  3.71101461e-02  1.68235879e-02  4.08882871e-02\n",
      "  9.25142765e-02  6.29361942e-02 -1.60256941e-02 -4.54761498e-02\n",
      " -7.14044496e-02 -2.02956311e-02  2.26875003e-02  7.05560669e-03\n",
      "  2.15865802e-02 -1.55978138e-02 -2.50229985e-02  4.53809202e-02\n",
      "  1.58594418e-02  3.70488837e-02 -3.16296816e-02 -5.89485504e-02\n",
      " -3.84882577e-02 -3.07665542e-02  3.08926925e-02  1.31849870e-02\n",
      " -1.00272380e-01 -2.92446110e-02  1.52795343e-02 -7.17700720e-02\n",
      " -4.81524579e-02 -3.57408002e-02 -2.14815885e-02 -5.86460494e-02\n",
      "  4.91089150e-02 -2.61065140e-02  1.02798957e-02 -1.64257530e-02\n",
      " -7.33430684e-03  7.69646913e-02  4.72665653e-02  6.95252605e-03\n",
      "  2.12811981e-03 -2.09987164e-02  3.18833650e-03  2.72832643e-02\n",
      " -3.33661288e-02  1.15391361e-02 -5.82052097e-02 -2.74886582e-02\n",
      " -2.06858385e-02  5.04893325e-02 -3.79040539e-02  4.70669717e-02\n",
      " -2.77095810e-02  1.92081407e-02 -7.30594024e-02  5.65751083e-02\n",
      " -4.83127171e-03  1.40387816e-02 -1.88698452e-02  2.06828583e-03\n",
      "  3.61417281e-03 -1.58805363e-02  7.34518990e-02 -8.30028281e-02\n",
      " -6.63135722e-02  3.35062668e-02  6.73480146e-03  2.83289403e-02\n",
      " -3.35617885e-02 -1.47696184e-02 -4.88018198e-03  7.68621787e-02\n",
      " -1.96684301e-02 -2.85390690e-02  1.74304973e-02  6.30304730e-03\n",
      "  4.54083420e-02  2.98331231e-02  2.22554430e-02 -1.66812595e-02\n",
      " -6.17747605e-02  6.35687774e-03  2.03514080e-02 -2.52675302e-02\n",
      " -7.11422740e-03 -2.43382677e-02  3.64212282e-02 -2.58073419e-01\n",
      "  2.20410936e-02  2.93236859e-02 -3.50181051e-02  5.26049808e-02\n",
      " -6.75877603e-03  6.62357286e-02 -1.24854641e-02  5.01990914e-02\n",
      "  1.90003850e-02  4.99892421e-02  1.00116089e-01  6.79451078e-02\n",
      " -2.18032729e-02 -1.61606586e-03  4.19230526e-03  8.74114633e-02\n",
      " -3.78206447e-02  2.88440548e-02 -2.41291393e-02  5.30456677e-02\n",
      " -1.12060811e-02  1.70069531e-01 -1.21596875e-02 -4.46069799e-02\n",
      " -2.11336873e-02 -7.45507656e-03 -1.84422079e-02  3.31662372e-02\n",
      " -2.23400593e-02  1.54623576e-02  4.33922000e-02  3.19333971e-02\n",
      "  6.96966751e-03  4.58390601e-02 -3.67249502e-03 -3.65161151e-02\n",
      "  2.24007014e-02 -3.03274915e-02  3.88070978e-02 -5.10431342e-02\n",
      "  1.59212351e-02  1.24741690e-02  1.93282906e-02  4.52018715e-02\n",
      "  1.76109988e-02 -3.36636566e-02 -1.01743571e-01  9.36925225e-03\n",
      "  1.63821261e-02 -3.24716493e-02 -2.47830357e-02  2.06060354e-02\n",
      " -5.84163293e-02  5.50721353e-03  3.97230685e-02 -3.52577865e-02\n",
      "  2.25167219e-02  2.02334132e-02 -3.15813087e-02  9.00449138e-03\n",
      "  5.82186040e-03 -6.34643137e-02 -2.50777062e-02  5.46476766e-02]\n",
      "(384,)\n"
     ]
    }
   ],
   "source": [
    "import  numpy as np\n",
    "print(np.array(huggingface_embeddings.embed_query(final_documents[0].page_content)))\n",
    "print(np.array(huggingface_embeddings.embed_query(final_documents[0].page_content)).shape)"
   ]
  },
  {
   "cell_type": "code",
   "execution_count": 9,
   "metadata": {},
   "outputs": [],
   "source": [
    "## VectorStore Creation\n",
    "vectorstore=FAISS.from_documents(final_documents[:120],huggingface_embeddings)"
   ]
  },
  {
   "cell_type": "code",
   "execution_count": 10,
   "metadata": {},
   "outputs": [
    {
     "name": "stdout",
     "output_type": "stream",
     "text": [
      "The American Community Survey (ACS) is a nationwide survey designed to provide communities with reliable and timely demographic, social, economic, and housing data for the nation, states, congressional districts, counties, places, and other localities every year. It has an annual sample size of about 3.5 million \n",
      "addresses across the United States and Puerto Rico and includes \n",
      "both housing units and group quarters (e.g., nursing facilities and prisons)\n",
      ".1 The ACS is conducted in every county throughout the \n",
      "nation and every municipio in Puerto Rico, where it is called the Puerto Rico Community Survey. Beginning in 2006, ACS 1-year data have been released annually for geographic areas with populations of 65,000 and greater. For information on the ACS sample design and \n",
      "other topics, visit <www.census.gov/acs>.\n",
      "1 While people living in group quarters are sampled in the ACS, those living in \n",
      "institutional group quarters (e.g., nursing homes or correctional facilities) are not\n"
     ]
    }
   ],
   "source": [
    "## Query using Similarity Search\n",
    "query=\"WHAT IS HEALTH INSURANCE COVERAGE?\"\n",
    "relevant_docments=vectorstore.similarity_search(query)\n",
    "\n",
    "print(relevant_docments[0].page_content)"
   ]
  },
  {
   "cell_type": "code",
   "execution_count": 11,
   "metadata": {},
   "outputs": [
    {
     "name": "stdout",
     "output_type": "stream",
     "text": [
      "tags=['FAISS', 'HuggingFaceBgeEmbeddings'] vectorstore=<langchain_community.vectorstores.faiss.FAISS object at 0x7f03643fc9b0> search_kwargs={'k': 3}\n"
     ]
    }
   ],
   "source": [
    "retriever=vectorstore.as_retriever(search_type=\"similarity\",search_kwargs={\"k\":3})\n",
    "print(retriever)"
   ]
  },
  {
   "cell_type": "code",
   "execution_count": 25,
   "metadata": {},
   "outputs": [],
   "source": [
    "import os\n",
    "from dotenv import load_dotenv\n",
    "load_dotenv()\n",
    "huggingfacehub_api_token = os.getenv('HUGGINGFACE_API_KEY')"
   ]
  },
  {
   "cell_type": "code",
   "execution_count": 26,
   "metadata": {},
   "outputs": [
    {
     "data": {
      "text/plain": [
       "'What is the health insurance coverage?\\n\\nThe health insurance coverage is a contract between the insurer and the insured. The insurer agrees to pay the insured’s medical expenses up to a certain amount, and the insured agrees to pay the premiums.\\n\\nWhat are the benefits of health insurance?\\n\\nThe benefits of health insurance are many. It can help you pay for medical expenses, protect you from financial ruin, and give you peace of mind.\\n\\nWhat are the different types of health insurance'"
      ]
     },
     "execution_count": 26,
     "metadata": {},
     "output_type": "execute_result"
    }
   ],
   "source": [
    "from langchain_community.llms import HuggingFaceHub\n",
    "\n",
    "hf=HuggingFaceHub(\n",
    "    repo_id=\"mistralai/Mistral-7B-v0.1\",\n",
    "    model_kwargs={\"temperature\":0.1,\"max_length\":500},\n",
    "    huggingfacehub_api_token=huggingfacehub_api_token\n",
    "\n",
    ")\n",
    "query=\"What is the health insurance coverage?\"\n",
    "hf.invoke(query)"
   ]
  },
  {
   "cell_type": "code",
   "execution_count": 28,
   "metadata": {},
   "outputs": [
    {
     "data": {
      "application/vnd.jupyter.widget-view+json": {
       "model_id": "80cd4392afac42f3ba05f2ef05472906",
       "version_major": 2,
       "version_minor": 0
      },
      "text/plain": [
       "tokenizer_config.json:   0%|          | 0.00/996 [00:00<?, ?B/s]"
      ]
     },
     "metadata": {},
     "output_type": "display_data"
    },
    {
     "data": {
      "application/vnd.jupyter.widget-view+json": {
       "model_id": "28e86ab9c9c94dbab169551130a974b6",
       "version_major": 2,
       "version_minor": 0
      },
      "text/plain": [
       "tokenizer.model:   0%|          | 0.00/493k [00:00<?, ?B/s]"
      ]
     },
     "metadata": {},
     "output_type": "display_data"
    },
    {
     "data": {
      "application/vnd.jupyter.widget-view+json": {
       "model_id": "9b78315160de40c6a7392f55920a589d",
       "version_major": 2,
       "version_minor": 0
      },
      "text/plain": [
       "tokenizer.json:   0%|          | 0.00/1.80M [00:00<?, ?B/s]"
      ]
     },
     "metadata": {},
     "output_type": "display_data"
    },
    {
     "data": {
      "application/vnd.jupyter.widget-view+json": {
       "model_id": "a8da906c781d4119a4bc1a19be3f6598",
       "version_major": 2,
       "version_minor": 0
      },
      "text/plain": [
       "special_tokens_map.json:   0%|          | 0.00/414 [00:00<?, ?B/s]"
      ]
     },
     "metadata": {},
     "output_type": "display_data"
    },
    {
     "data": {
      "application/vnd.jupyter.widget-view+json": {
       "model_id": "80de0438a0e34b0495ea354120d7bb09",
       "version_major": 2,
       "version_minor": 0
      },
      "text/plain": [
       "config.json:   0%|          | 0.00/571 [00:00<?, ?B/s]"
      ]
     },
     "metadata": {},
     "output_type": "display_data"
    },
    {
     "data": {
      "application/vnd.jupyter.widget-view+json": {
       "model_id": "095fb27149074ba3bdcc8b54c097e305",
       "version_major": 2,
       "version_minor": 0
      },
      "text/plain": [
       "model.safetensors.index.json:   0%|          | 0.00/25.1k [00:00<?, ?B/s]"
      ]
     },
     "metadata": {},
     "output_type": "display_data"
    },
    {
     "data": {
      "application/vnd.jupyter.widget-view+json": {
       "model_id": "483e952311a0491790a418fdf6614787",
       "version_major": 2,
       "version_minor": 0
      },
      "text/plain": [
       "Downloading shards:   0%|          | 0/2 [00:00<?, ?it/s]"
      ]
     },
     "metadata": {},
     "output_type": "display_data"
    },
    {
     "data": {
      "application/vnd.jupyter.widget-view+json": {
       "model_id": "8f75aff747284ad4b6912cddcce6db91",
       "version_major": 2,
       "version_minor": 0
      },
      "text/plain": [
       "model-00001-of-00002.safetensors:   0%|          | 0.00/9.94G [00:00<?, ?B/s]"
      ]
     },
     "metadata": {},
     "output_type": "display_data"
    }
   ],
   "source": [
    "#Hugging Face models can be run locally through the HuggingFacePipeline class.\n",
    "from langchain_community.llms.huggingface_pipeline import HuggingFacePipeline\n",
    "\n",
    "hf = HuggingFacePipeline.from_model_id(\n",
    "    model_id=\"mistralai/Mistral-7B-v0.1\",\n",
    "    task=\"text-generation\",\n",
    "    pipeline_kwargs={\"temperature\": 0, \"max_new_tokens\": 300}\n",
    ")\n",
    "\n",
    "llm = hf \n",
    "llm.invoke(query)"
   ]
  },
  {
   "cell_type": "code",
   "execution_count": null,
   "metadata": {},
   "outputs": [],
   "source": [
    "prompt_template=\"\"\"\n",
    "Use the following piece of context to answer the question asked.\n",
    "Please try to provide the answer only based on the context\n",
    "\n",
    "{context}\n",
    "Question:{question}\n",
    "\n",
    "Helpful Answers:\n",
    " \"\"\""
   ]
  },
  {
   "cell_type": "code",
   "execution_count": null,
   "metadata": {},
   "outputs": [],
   "source": [
    "prompt=PromptTemplate(template=prompt_template,input_variables=[\"context\",\"question\"])\n"
   ]
  },
  {
   "cell_type": "code",
   "execution_count": null,
   "metadata": {},
   "outputs": [],
   "source": [
    "retrievalQA=RetrievalQA.from_chain_type(\n",
    "    llm=hf,\n",
    "    chain_type=\"stuff\",\n",
    "    retriever=retriever,\n",
    "    return_source_documents=True,\n",
    "    chain_type_kwargs={\"prompt\":prompt}\n",
    ")"
   ]
  },
  {
   "cell_type": "code",
   "execution_count": null,
   "metadata": {},
   "outputs": [],
   "source": [
    "query=\"\"\"DIFFERENCES IN THE\n",
    "UNINSURED RATE BY STATE\n",
    "IN 2022\"\"\""
   ]
  },
  {
   "cell_type": "code",
   "execution_count": null,
   "metadata": {},
   "outputs": [],
   "source": [
    "\n",
    "# Call the QA chain with our query.\n",
    "result = retrievalQA.invoke({\"query\": query})\n",
    "print(result['result'])"
   ]
  },
  {
   "cell_type": "code",
   "execution_count": null,
   "metadata": {},
   "outputs": [],
   "source": []
  }
 ],
 "metadata": {
  "kernelspec": {
   "display_name": "newVenv",
   "language": "python",
   "name": "python3"
  },
  "language_info": {
   "codemirror_mode": {
    "name": "ipython",
    "version": 3
   },
   "file_extension": ".py",
   "mimetype": "text/x-python",
   "name": "python",
   "nbconvert_exporter": "python",
   "pygments_lexer": "ipython3",
   "version": "3.12.4"
  }
 },
 "nbformat": 4,
 "nbformat_minor": 2
}
