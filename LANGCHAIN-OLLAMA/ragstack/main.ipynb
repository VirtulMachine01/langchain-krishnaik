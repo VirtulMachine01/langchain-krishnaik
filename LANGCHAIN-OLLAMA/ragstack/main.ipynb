{
 "cells": [
  {
   "cell_type": "code",
   "execution_count": 20,
   "metadata": {},
   "outputs": [],
   "source": [
    "import os\n",
    "token=os.getenv(\"ASTRA_DB_APPLICATION_TOKEN\")\n",
    "api_endpoint=os.getenv(\"ASTRA_DB_API_ENDPOINT\")"
   ]
  },
  {
   "cell_type": "code",
   "execution_count": 21,
   "metadata": {},
   "outputs": [],
   "source": [
    "from langchain_astradb import AstraDBVectorStore\n",
    "from langchain_community.embeddings import OllamaEmbeddings\n",
    "from langchain.vectorstores.cassandra import Cassandra\n",
    "\n",
    "## Configure the embedding model and vector store\n",
    "embeddings = OllamaEmbeddings(model=\"llama3\")\n",
    "vectorStore = AstraDBVectorStore(\n",
    "    collection_name=\"test\",\n",
    "    embedding=embeddings,\n",
    "    token=token,\n",
    "    api_endpoint=api_endpoint\n",
    ")"
   ]
  },
  {
   "cell_type": "code",
   "execution_count": 22,
   "metadata": {},
   "outputs": [
    {
     "name": "stdout",
     "output_type": "stream",
     "text": [
      "An example entry:\n",
      "{'author': 'aristotle', 'quote': 'Love well, be loved and do something of value.', 'tags': 'love;ethics'}\n"
     ]
    }
   ],
   "source": [
    "from datasets import load_dataset\n",
    "\n",
    "# Load a sample dsataset\n",
    "philo_dataset = load_dataset(\"datastax/philosopher-quotes\")[\"train\"]\n",
    "print(\"An example entry:\")\n",
    "print(philo_dataset[16])"
   ]
  },
  {
   "cell_type": "code",
   "execution_count": 23,
   "metadata": {},
   "outputs": [],
   "source": [
    "from langchain.schema import Document\n",
    "\n",
    "# constructs a set of documnets from data.Documnets can be used as inputs to vector store\n",
    "docs=[]\n",
    "for entry in philo_dataset:\n",
    "    metadata = {\"author\":entry[\"author\"]}\n",
    "    if entry[\"tags\"]:\n",
    "        #Add metadata tags to the metadata dictionary\n",
    "        for tag in entry[\"tags\"].split(\";\"):\n",
    "            metadata[tag] = \"y\"\n",
    "    # Create a lanchain documnet with the quote and metadata tags\n",
    "    doc = Document(page_content=entry[\"quote\"], metadata=metadata)\n",
    "    docs.append(doc)"
   ]
  },
  {
   "cell_type": "code",
   "execution_count": null,
   "metadata": {},
   "outputs": [],
   "source": [
    "docs"
   ]
  },
  {
   "cell_type": "code",
   "execution_count": 25,
   "metadata": {},
   "outputs": [
    {
     "name": "stdout",
     "output_type": "stream",
     "text": [
      "\n",
      "Inserted 450 documents.\n"
     ]
    }
   ],
   "source": [
    "# create embeddings by inserting documnets in to the vector store\n",
    "\n",
    "inserted_ids = vectorStore.add_documents(docs)\n",
    "print(f\"\\nInserted {len(inserted_ids)} documents.\")"
   ]
  },
  {
   "cell_type": "code",
   "execution_count": 26,
   "metadata": {},
   "outputs": [
    {
     "name": "stdout",
     "output_type": "stream",
     "text": [
      "{'data': {'documents': [{'_id': '5e4b6cbf867044c2b015c48cef7760a7', 'content': 'Whatever fosters the growth of civilization works at the same time against war.', 'metadata': {'author': 'freud', 'knowledge': 'y', 'ethics': 'y'}}, {'_id': '30abe0b2abfc4e809eb658fd24b48f12', 'content': 'Impatience asks for the impossible, wants to reach the goal without the means of getting there. The length of the journey has to be borne with, for every moment is necessary.', 'metadata': {'author': 'hegel', 'ethics': 'y'}}, {'_id': '202ffd58de9349c4bf3e2fc584db329e', 'content': 'A promise made must be a promise kept.', 'metadata': {'author': 'aristotle', 'ethics': 'y'}}, {'_id': '0f89b95463dd4b7a9277ef79717f07e9', 'content': \"It is most important to allow the brain the full measure of sleep which is required to restore it; for sleep is to a man's whole nature what winding up is to a clock.\", 'metadata': {'author': 'schopenhauer', 'ethics': 'y', 'knowledge': 'y'}}, {'_id': '18fd21d2b6864c1a81ef35527d925eb7', 'content': 'The Few assume to be the deputies, but they are often only the despoilers of the Many.', 'metadata': {'author': 'hegel', 'politics': 'y'}}, {'_id': '6da5a6a3bc7f4e82a464b41e8ae76874', 'content': 'Mankind will never see an end of trouble until lovers of wisdom come to hold political power, or the holders of power become lovers of wisdom', 'metadata': {'author': 'plato', 'politics': 'y', 'knowledge': 'y'}}, {'_id': '91b2be7fd4ba4fb5a2366ce60713246d', 'content': \"The expectation that every neurotic phenomenon can be cured may, I suspect, be derived from the layman's belief that the neuroses are something quite unnecessary which have no right whatever to exist. Whereas in fact they are severe, constitutionally fixed illnesses, which rarely restrict themselves to only a few attacks but persist as a rule over long periods throughout life.\", 'metadata': {'author': 'freud'}}, {'_id': '82f2687379794a55b280c9e74cabf9a9', 'content': 'All I need is a sheet of paper and something to write with, and then I can turn the world upside down.', 'metadata': {'author': 'nietzsche'}}, {'_id': 'cff333d2a30b40d0967ad44586da005d', 'content': 'Moral Teleology supplies the deficiency in physical Teleology , and first establishes a Theology ; because the latter, if it did not borrow from the former without being observed, but were to proceed consistently, could only found a Demonology , which is incapable of any definite concept.', 'metadata': {'author': 'kant'}}, {'_id': 'dcb078f673384179889805e5d7a3cbe1', 'content': 'People are always angry at anyone who chooses very individual standards for his life; because of the extraordinary treatment which that man grants to himself, they feel degraded, like ordinary beings.', 'metadata': {'author': 'nietzsche', 'ethics': 'y'}}, {'_id': 'd9b03ba1a41c45128f96056f00f0b105', 'content': \"Lead us, Heavenly Father, lead us O'er the world's tempestuous sea; Guard us, guide us, keep us, feed us, For we have no help but Thee.\", 'metadata': {'author': 'freud', 'religion': 'y', 'love': 'y', 'knowledge': 'y', 'ethics': 'y'}}, {'_id': '4bc30db89e24440e81fd16d403f65327', 'content': 'Wisest is he who knows what he does not know.', 'metadata': {'author': 'plato', 'knowledge': 'y', 'ethics': 'y', 'education': 'y'}}, {'_id': '768ad2db32344eca816af0a7684471fa', 'content': 'The greatest of all pleasures is the pleasure of learning.', 'metadata': {'author': 'aristotle', 'knowledge': 'y', 'education': 'y', 'history': 'y'}}, {'_id': 'dfb719924d614818b23418cb40830b7a', 'content': 'We see many instances of cities going down like sinking ships to their destruction. There have been such wrecks in the past and there surely will be others in the future, caused by the wickedness of captains and crews alike. For these are guilty men, whose sin is supreme ignorance of what matters most.', 'metadata': {'author': 'plato'}}, {'_id': '525961365acb4d1d984151d0f37324e6', 'content': 'Acting is happy agony.', 'metadata': {'author': 'sartre'}}, {'_id': '4ba3bb6ad7554c56b748ba9825169eb5', 'content': 'No journey is too great,', 'metadata': {'author': 'nietzsche', 'ethics': 'y'}}, {'_id': 'cfd9509084144960a848bb588679a131', 'content': 'Children are potentially free and their life directly embodies nothing save potential freedom. Consequently they are not things and cannot be the property either of their parents or others.', 'metadata': {'author': 'hegel', 'ethics': 'y'}}, {'_id': '3d15f5f6b82f447fa3bc7710b87d1c8b', 'content': 'Consider pleasures as they depart, not as they come.', 'metadata': {'author': 'aristotle', 'ethics': 'y'}}, {'_id': 'c400fc822c8c454a983fcd813a9ff49f', 'content': '.... we are a part of nature as a whole, whose order we follow.', 'metadata': {'author': 'spinoza'}}, {'_id': 'f447f563d777487fa17ed08d058d8e59', 'content': 'The more intelligible a thing is, the more easily it is retained in the memory, and counterwise, the less intelligible it is, the more easily we forget it.', 'metadata': {'author': 'spinoza', 'knowledge': 'y', 'education': 'y', 'history': 'y', 'ethics': 'y'}}], 'nextPageState': 'KQAAAAEBAAAAIGY0NDdmNTYzZDc3NzQ4N2ZhMTdlZDA4ZDA1OGQ4ZTU5APB////rAA=='}}\n"
     ]
    }
   ],
   "source": [
    "#Check collection to verify the documents are embedded\n",
    "print(vectorStore.astra_db.collection(\"test\").find())"
   ]
  },
  {
   "cell_type": "code",
   "execution_count": null,
   "metadata": {},
   "outputs": [],
   "source": [
    "# Retrieve context from the vector atore and pass it to the llm\n",
    "\n",
    "from langchain.prompts import ChatPromptTemplate\n",
    "from transformers import pipeline\n",
    "from langchain.chat_models import ChatOpenAI\n",
    "from langchain_huggingface import HuggingFacePipeline\n",
    "from langchain.schema.output_parser import StrOutputParser\n",
    "from langchain.schema.runnable import RunnablePassthrough\n",
    "\n",
    "retriever = vectorStore.as_retriever(search_kwargs={\"k\":3})\n",
    "\n",
    "prompt_template = \"\"\"\n",
    "Answer the question based only on the supplied context. If you don't know the answer, say you don't know the answer. \n",
    "Context: {context}\n",
    "Question: {question}\n",
    "Your Answer: \n",
    "\"\"\"\n",
    "\n",
    "prompt = ChatPromptTemplate.from_template(prompt_template)\n",
    "# model = ChatOpenAI()\n",
    "\n",
    "# Initialize the Hugging Face pipeline\n",
    "hf_pipeline = pipeline(\"text-generation\", model=\"EleutherAI/gpt-neox-20b\", max_length=300, max_new_tokens=10)\n",
    "# EleutherAI/gpt-neo-1.3B\n",
    "# EleutherAI/gpt-j-6B\n",
    "# EleutherAI/gpt-neox-20b\n",
    "# acebook/blenderbot-400M-distill\n",
    "# facebook/blenderbot-1B-distill\n",
    "# facebook/blenderbot-3B\n",
    "# microsoft/DialoGPT-small\n",
    "# microsoft/DialoGPT-medium\n",
    "# microsoft/DialoGPT-large\n",
    "# google/t5-small\n",
    "# google/t5-base\n",
    "# google/t5-large\n",
    "# google/t5-3B\n",
    "# google/t5-11B\n",
    "# distilgpt2\n",
    "\n",
    "# Wrap the pipeline in a LangChain-compatible LLM\n",
    "model = HuggingFacePipeline(pipeline=hf_pipeline)\n",
    "\n",
    "chain = (\n",
    "    {\"context\": retriever, \"question\": RunnablePassthrough()}\n",
    "    | prompt\n",
    "    | model\n",
    "    | StrOutputParser()\n",
    ")\n",
    "\n",
    "print(chain.invoke(\"In the given context, what subject are philosophers most concerned with?\"))"
   ]
  },
  {
   "cell_type": "code",
   "execution_count": 39,
   "metadata": {},
   "outputs": [
    {
     "name": "stderr",
     "output_type": "stream",
     "text": [
      "Setting `pad_token_id` to `eos_token_id`:0 for open-end generation.\n",
      "Both `max_new_tokens` (=10) and `max_length`(=300) seem to have been set. `max_new_tokens` will take precedence. Please refer to the documentation for more information. (https://huggingface.co/docs/transformers/main/en/main_classes/text_generation)\n"
     ]
    },
    {
     "data": {
      "text/plain": [
       "\"Human: \\nAnswer the question based only on the supplied context. If you don't know the answer, say you don't know the answer. \\nContext: [Document(metadata={'author': 'sartre'}, page_content='your judgement judges you and defines you'), Document(metadata={'author': 'hegel', 'history': 'y', 'knowledge': 'y'}, page_content='We learn from history that we do not learn from history'), Document(metadata={'author': 'nietzsche'}, page_content='Most people are too stupid to act in their own interest')]\\nQuestion: In the given context, what subject are philosophers most concerned with?, only give thr answer\\nYour Answer: \\n\\nThe subject of philosophy is the human being.\""
      ]
     },
     "execution_count": 39,
     "metadata": {},
     "output_type": "execute_result"
    }
   ],
   "source": [
    "response = chain.invoke(\"In the given context, what subject are philosophers most concerned with?, only give the answer\")\n",
    "response"
   ]
  },
  {
   "cell_type": "code",
   "execution_count": 40,
   "metadata": {},
   "outputs": [
    {
     "name": "stdout",
     "output_type": "stream",
     "text": [
      "Human: \n",
      "Answer the question based only on the supplied context. If you don't know the answer, say you don't know the answer. \n",
      "Context: [Document(metadata={'author': 'sartre'}, page_content='your judgement judges you and defines you'), Document(metadata={'author': 'hegel', 'history': 'y', 'knowledge': 'y'}, page_content='We learn from history that we do not learn from history'), Document(metadata={'author': 'nietzsche'}, page_content='Most people are too stupid to act in their own interest')]\n",
      "Question: In the given context, what subject are philosophers most concerned with?, only give thr answer\n",
      "Your Answer: \n",
      "\n",
      "The subject of philosophy is the human being.\n"
     ]
    }
   ],
   "source": [
    "print(response)"
   ]
  },
  {
   "cell_type": "code",
   "execution_count": 41,
   "metadata": {},
   "outputs": [],
   "source": [
    "vectorStore.delete_collection()"
   ]
  },
  {
   "cell_type": "code",
   "execution_count": null,
   "metadata": {},
   "outputs": [],
   "source": []
  }
 ],
 "metadata": {
  "kernelspec": {
   "display_name": "newVenv",
   "language": "python",
   "name": "python3"
  },
  "language_info": {
   "codemirror_mode": {
    "name": "ipython",
    "version": 3
   },
   "file_extension": ".py",
   "mimetype": "text/x-python",
   "name": "python",
   "nbconvert_exporter": "python",
   "pygments_lexer": "ipython3",
   "version": "3.12.4"
  }
 },
 "nbformat": 4,
 "nbformat_minor": 2
}
